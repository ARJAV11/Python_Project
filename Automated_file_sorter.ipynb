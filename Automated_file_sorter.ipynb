{
 "cells": [
  {
   "cell_type": "markdown",
   "id": "90a0b072",
   "metadata": {},
   "source": [
    "# Automatic File Sorter\n"
   ]
  },
  {
   "cell_type": "code",
   "execution_count": 1,
   "id": "030f277a",
   "metadata": {},
   "outputs": [],
   "source": [
    "import os,shutil"
   ]
  },
  {
   "cell_type": "code",
   "execution_count": 39,
   "id": "1f26fb1f",
   "metadata": {},
   "outputs": [],
   "source": [
    "path = r\"C:/Users/SAI RAM/Desktop/Arjav-python/\""
   ]
  },
  {
   "cell_type": "code",
   "execution_count": 4,
   "id": "e1d59b62",
   "metadata": {},
   "outputs": [
    {
     "data": {
      "text/plain": [
       "['.ipynb_checkpoints',\n",
       " 'download01.ipynb',\n",
       " 'plot01.ipynb',\n",
       " 'price_data (1).csv',\n",
       " 'Python-Symbol.png',\n",
       " 'Untitled.ipynb',\n",
       " 'Untitled1.ipynb']"
      ]
     },
     "execution_count": 4,
     "metadata": {},
     "output_type": "execute_result"
    }
   ],
   "source": [
    "os.listdir(path)"
   ]
  },
  {
   "cell_type": "code",
   "execution_count": 40,
   "id": "e46e976c",
   "metadata": {},
   "outputs": [],
   "source": [
    "folder_names=['csv files','image files','python_notebook files']\n",
    "\n",
    "for loop in range(0,3) :\n",
    "              if not os.path.exists(path+folder_names[loop]):\n",
    "                 os.makedirs((path+folder_names[loop]))"
   ]
  },
  {
   "cell_type": "code",
   "execution_count": 41,
   "id": "4e7649a5",
   "metadata": {},
   "outputs": [],
   "source": [
    "file_name = os.listdir(path)\n"
   ]
  },
  {
   "cell_type": "code",
   "execution_count": 43,
   "id": "45d47249",
   "metadata": {},
   "outputs": [],
   "source": [
    "for file in file_name:\n",
    "       \n",
    "            if \".csv\" in file and not os.path.exists(path+\"csv files/\"+file):\n",
    "               shutil.move(path+file,path+\"csv files/\"+file)\n",
    "   \n",
    "            if \".png\" in file and not os.path.exists(path+\"image files/\"+file):\n",
    "               shutil.move(path+file,path+\"image files/\"+file)\n",
    "\n",
    "            if \".ipynb\" in file and not os.path.exists(path+\"python_notebook files/\"+file):\n",
    "               shutil.move(path+file,path+\"python_notebook files/\"+file)\n"
   ]
  },
  {
   "cell_type": "code",
   "execution_count": null,
   "id": "661279e3",
   "metadata": {},
   "outputs": [],
   "source": []
  }
 ],
 "metadata": {
  "kernelspec": {
   "display_name": "Python 3 (ipykernel)",
   "language": "python",
   "name": "python3"
  },
  "language_info": {
   "codemirror_mode": {
    "name": "ipython",
    "version": 3
   },
   "file_extension": ".py",
   "mimetype": "text/x-python",
   "name": "python",
   "nbconvert_exporter": "python",
   "pygments_lexer": "ipython3",
   "version": "3.10.9"
  }
 },
 "nbformat": 4,
 "nbformat_minor": 5
}
