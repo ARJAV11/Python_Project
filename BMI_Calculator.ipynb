{
 "cells": [
  {
   "cell_type": "markdown",
   "id": "7f3aa3f2",
   "metadata": {},
   "source": [
    "# BMI CALCULATOR\n"
   ]
  },
  {
   "cell_type": "code",
   "execution_count": 1,
   "id": "b1b9a467",
   "metadata": {},
   "outputs": [
    {
     "name": "stdout",
     "output_type": "stream",
     "text": [
      "Enter you name: Arjav\n",
      "Enter your weight in pounds: 154.35\n",
      "Enter your height in inches: 70\n",
      "22.1445\n",
      "Arjav, you are normal weight.\n"
     ]
    }
   ],
   "source": [
    "name = input(\"Enter you name: \")\n",
    "\n",
    "weight =float(input(\"Enter your weight in pounds: \"))\n",
    "\n",
    "height = float(input(\"Enter your height in inches: \"))\n",
    "\n",
    "BMI = (weight * 703) / (height * height)\n",
    "\n",
    "print(BMI)\n",
    "\n",
    "if BMI>0:\n",
    "    if(BMI<18.5):\n",
    "        print(name +\", you are underwight.\")\n",
    "    elif (BMI<=24.9):\n",
    "        print(name +\", you are normal weight.\")\n",
    "    elif (BMI<29.9):\n",
    "        print(name +\", you are overweight.\")\n",
    "    elif (BMI<34.9):\n",
    "        print(name +\", you are obese.\")\n",
    "    elif (BMI<39.9):\n",
    "        print(name +\", you are severely obese.\")\n",
    "    else:\n",
    "        print(name +\", you are morbidly obese.\")\n",
    "else:    \n",
    "    print(\"Enter valid input\")\n"
   ]
  },
  {
   "cell_type": "code",
   "execution_count": null,
   "id": "09599b0d",
   "metadata": {},
   "outputs": [],
   "source": []
  }
 ],
 "metadata": {
  "kernelspec": {
   "display_name": "Python 3 (ipykernel)",
   "language": "python",
   "name": "python3"
  },
  "language_info": {
   "codemirror_mode": {
    "name": "ipython",
    "version": 3
   },
   "file_extension": ".py",
   "mimetype": "text/x-python",
   "name": "python",
   "nbconvert_exporter": "python",
   "pygments_lexer": "ipython3",
   "version": "3.10.9"
  }
 },
 "nbformat": 4,
 "nbformat_minor": 5
}
